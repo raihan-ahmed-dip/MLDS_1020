{
 "cells": [
  {
   "cell_type": "markdown",
   "metadata": {},
   "source": [
    "# Function"
   ]
  },
  {
   "cell_type": "markdown",
   "metadata": {},
   "source": [
    "## Basic Function"
   ]
  },
  {
   "cell_type": "code",
   "execution_count": 3,
   "metadata": {},
   "outputs": [],
   "source": [
    "# Defining the function\n",
    "def greet() -> None:\n",
    "    print(\"Hello Programmer\")\n",
    "    print(\"Welcome to Python!\")\n",
    "    print(\"How may I help you?\")"
   ]
  },
  {
   "cell_type": "code",
   "execution_count": 8,
   "metadata": {},
   "outputs": [
    {
     "name": "stdout",
     "output_type": "stream",
     "text": [
      "Hello Programmer\n",
      "Welcome to Python!\n",
      "How may I help you?\n"
     ]
    }
   ],
   "source": [
    "# Calling the function\n",
    "greet()"
   ]
  },
  {
   "cell_type": "markdown",
   "metadata": {},
   "source": [
    "## Parameterized Function"
   ]
  },
  {
   "cell_type": "code",
   "execution_count": 12,
   "metadata": {},
   "outputs": [],
   "source": [
    "def check(num: int):\n",
    "    \"\"\"\n",
    "    This is called doc string. This function will take a number \n",
    "    and check whether it's even or odd. If it is even then it will \n",
    "    print even otherwise it will print odd. \n",
    "    To check whether it is even or odd, I am using bitwise operator. \n",
    "    If we perform AND operation of 1 with an odd number it will always \n",
    "    return 1 or True, which means the number is odd. On the other hand, \n",
    "    performing AND operation of 1 with an even number will always return 0 \n",
    "    or False, Which means it is even. \n",
    "    \"\"\"\n",
    "    print(\"Odd\") if num&1 else print(\"Even\")"
   ]
  },
  {
   "cell_type": "code",
   "execution_count": 13,
   "metadata": {},
   "outputs": [
    {
     "name": "stdout",
     "output_type": "stream",
     "text": [
      "Odd\n"
     ]
    }
   ],
   "source": [
    "check(5)"
   ]
  },
  {
   "cell_type": "code",
   "execution_count": 23,
   "metadata": {},
   "outputs": [],
   "source": [
    "def check_even(num: int) -> bool:\n",
    "    return (True if not (num&1) else False)"
   ]
  },
  {
   "cell_type": "code",
   "execution_count": 25,
   "metadata": {},
   "outputs": [
    {
     "data": {
      "text/plain": [
       "True"
      ]
     },
     "execution_count": 25,
     "metadata": {},
     "output_type": "execute_result"
    }
   ],
   "source": [
    "res = check_even(6)\n",
    "res"
   ]
  },
  {
   "cell_type": "markdown",
   "metadata": {},
   "source": [
    "## Positional and Keyword Argument"
   ]
  },
  {
   "cell_type": "code",
   "execution_count": 30,
   "metadata": {},
   "outputs": [],
   "source": [
    "def check_is_divisible(num: int, div: int = 2) -> bool:\n",
    "    \"\"\"\n",
    "    Checking whether a number is divisible or not\n",
    "    \"\"\"\n",
    "    return (True if num%div == 0 else False)"
   ]
  },
  {
   "cell_type": "code",
   "execution_count": 33,
   "metadata": {},
   "outputs": [
    {
     "data": {
      "text/plain": [
       "True"
      ]
     },
     "execution_count": 33,
     "metadata": {},
     "output_type": "execute_result"
    }
   ],
   "source": [
    "check_is_divisible(6,5)\n",
    "check_is_divisible(8)\n",
    "check_is_divisible(num=8, div=3)\n",
    "check_is_divisible(div=7, num=14)"
   ]
  },
  {
   "cell_type": "markdown",
   "metadata": {},
   "source": [
    "## Dynamic Arguments"
   ]
  },
  {
   "cell_type": "code",
   "execution_count": 40,
   "metadata": {},
   "outputs": [],
   "source": [
    "def check(*nums: list[int]) -> list:\n",
    "    \"\"\" \n",
    "    Check whether the list of numbers are Even or Odd and also send back the results in a list.\n",
    "    \"\"\"\n",
    "    print(nums)\n",
    "    res = [True if not (num&1) else False for num in nums]\n",
    "    return res\n"
   ]
  },
  {
   "cell_type": "code",
   "execution_count": 42,
   "metadata": {},
   "outputs": [
    {
     "name": "stdout",
     "output_type": "stream",
     "text": [
      "(2, 3, 4, 5, 6, 7, 8, 9)\n"
     ]
    },
    {
     "data": {
      "text/plain": [
       "[True, False, True, False, True, False, True, False]"
      ]
     },
     "execution_count": 42,
     "metadata": {},
     "output_type": "execute_result"
    }
   ],
   "source": [
    "check(2,3,4,5,6,7,8,9)"
   ]
  },
  {
   "cell_type": "markdown",
   "metadata": {},
   "source": [
    "## Dynamic Keyword Arguments"
   ]
  },
  {
   "cell_type": "code",
   "execution_count": 52,
   "metadata": {},
   "outputs": [],
   "source": [
    "def getInfo(**kwargs) -> dict:\n",
    "    print(kwargs)\n",
    "    for key, val in kwargs.items():\n",
    "        print(f'Key: {key}, Value: {val}')\n",
    "    p = {key: val for key, val in kwargs.items() }\n",
    "    print(p)"
   ]
  },
  {
   "cell_type": "code",
   "execution_count": 53,
   "metadata": {},
   "outputs": [
    {
     "name": "stdout",
     "output_type": "stream",
     "text": [
      "{'name': 'John', 'age': 24, 'email': 'john@gmail.com'}\n",
      "Key: name, Value: John\n",
      "Key: age, Value: 24\n",
      "Key: email, Value: john@gmail.com\n",
      "{'name': 'John', 'age': 24, 'email': 'john@gmail.com'}\n"
     ]
    }
   ],
   "source": [
    "getInfo(name='John', age=24, email='john@gmail.com')"
   ]
  },
  {
   "cell_type": "code",
   "execution_count": 62,
   "metadata": {},
   "outputs": [],
   "source": [
    "def getAll(*args, **kwargs):\n",
    "    \"\"\" \n",
    "    This function will take both positional and keyword arguments. \n",
    "    First it will take all the positional arguments and then it will take \n",
    "    all keyword arguments.\n",
    "    \"\"\"\n",
    "    a = [i for i in args]\n",
    "    p = {key: val for key, val in kwargs.items() }\n",
    "    print(a)\n",
    "    print(p)"
   ]
  },
  {
   "cell_type": "code",
   "execution_count": 63,
   "metadata": {},
   "outputs": [
    {
     "name": "stdout",
     "output_type": "stream",
     "text": [
      "[2, 3, 5, 6]\n",
      "{'name': 'Alex', 'age': 56, 'email': 'alex@hotmail.com'}\n"
     ]
    }
   ],
   "source": [
    "getAll(2, 3, 5, 6, name=\"Alex\", age= 56, email='alex@hotmail.com')"
   ]
  }
 ],
 "metadata": {
  "kernelspec": {
   "display_name": "Python 3.9.5 ('.env': venv)",
   "language": "python",
   "name": "python3"
  },
  "language_info": {
   "codemirror_mode": {
    "name": "ipython",
    "version": 3
   },
   "file_extension": ".py",
   "mimetype": "text/x-python",
   "name": "python",
   "nbconvert_exporter": "python",
   "pygments_lexer": "ipython3",
   "version": "3.9.5"
  },
  "orig_nbformat": 4,
  "vscode": {
   "interpreter": {
    "hash": "fa623bd44fc5a3453efc0f28b7d576938deaaebcc771c72f05da310f849d904a"
   }
  }
 },
 "nbformat": 4,
 "nbformat_minor": 2
}
