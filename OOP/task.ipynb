{
 "cells": [
  {
   "cell_type": "code",
   "execution_count": 28,
   "metadata": {},
   "outputs": [],
   "source": [
    "class Validate:\n",
    "    \"\"\"\n",
    "    This Validate class will assist to do some validations.\n",
    "    \"\"\"\n",
    "\n",
    "    @staticmethod\n",
    "    def validate_email(email: str) -> bool:\n",
    "        \"\"\"\n",
    "        This function will take email as an input and if the structure matches \n",
    "        with the structure of an email, then it will return True, otherwise it \n",
    "        will return Flase. \n",
    "        \"\"\"\n",
    "        email = email.strip()\n",
    "        if email.find(' ') >= 0 or email.find('@') < 0 or email.find('.') < 0:\n",
    "            return False\n",
    "        if (email.find('@') == 0) or (email.rfind('@') == (len(email)-1)) or (email.find('.') == 0) or (email.rfind('.') == (len(email) - 1)) or email.count('@') > 1:\n",
    "            return False\n",
    "        if email.rfind('@') > email.rfind('.'):\n",
    "            return False\n",
    "        return True\n",
    "\n",
    "    @staticmethod\n",
    "    def validate_name(name: str) -> bool:\n",
    "        \"\"\"\n",
    "        This function will take the name as input and if the name is more or \n",
    "        equal than 2 characters long and have only alphabets then it will return \n",
    "        True or will return False \n",
    "        \"\"\"\n",
    "        if len(name.strip()) >= 2 and name.strip().replace(' ', '').isalpha():\n",
    "            return True\n",
    "        return False"
   ]
  },
  {
   "cell_type": "code",
   "execution_count": 29,
   "metadata": {},
   "outputs": [],
   "source": [
    "class Accounts:\n",
    "    \"\"\"\n",
    "    Account class will handle all the attributes and methods of the accounts. \n",
    "    \"\"\"\n",
    "    bank_name = \"Standard Chartered\"\n",
    "    __counter = 0\n",
    "    \n",
    "    __balance = 0.00\n",
    "    is_active = False\n",
    "\n",
    "\n",
    "    def __init__(self, acc_name: str, acc_pin: int) -> None:\n",
    "        Accounts.__counter += 1\n",
    "        self.acc_no = Accounts.__counter\n",
    "        self.acc_name = acc_name\n",
    "        self.acc_pin = acc_pin\n",
    "        self.__balance = 0.00\n",
    "        self.is_active = True\n",
    "\n",
    "    def is_deletable(function):\n",
    "        def wrapper(*args, **kwargs):\n",
    "            if self.__balance > 0:\n",
    "                return function\n",
    "            return f\"Sorry, Cannot delete. There is money on your account.\"\n",
    "        return wrapper\n",
    "\n",
    "    @is_deletable\n",
    "    def __del__(self) -> str:\n",
    "        print(f\"Account {self.acc_no} is deleted\")\n",
    "\n",
    "    \n",
    "    def createAccount(self, bankdb: dict) -> dict:\n",
    "        bankdb[self.acc_no] = self\n",
    "        return bankdb\n",
    "\n",
    "    def pinChange(self, new_pin: int) -> None:\n",
    "        self.acc_pin = new_pin\n",
    "\n",
    "    @property\n",
    "    def balance(self):\n",
    "        return self.__balance\n",
    "\n",
    "    @balance.setter\n",
    "    def balance(self, new: float):\n",
    "        self.__balance = new\n",
    "\n",
    "    def deposit(self, amount: float) -> None:\n",
    "        if amount >= 0:\n",
    "            self.__balance += amount\n",
    "    \n",
    "    def withdraw(self, check_pin: int, amount: float) -> str:\n",
    "        if self.acc_pin == check_pin:\n",
    "            if amount < self.__balance:\n",
    "                self.__balance -= amount\n",
    "                return f\"Congratulations!\\nYou have withdrwarn Tk. {amount} successfully.\\nYour current balance is Tk. {self.__balance}\"\n",
    "            else:\n",
    "                return f\"Sorry! You don't have sufficient balance in your account to withdraw.\"\n",
    "        else:\n",
    "            return f\"Sorry! You have entered Wrong Pin\"\n",
    "    \n",
    "    def transfer(self, bankdb: dict, pin: int, amount: float, to_acc: int) -> str:\n",
    "        if to_acc in bankdb.keys():\n",
    "            if self.acc_pin == pin:\n",
    "                if self.__balance > amount:\n",
    "                    self.__balance -= amount\n",
    "                    bankdb[to_acc].balance += amount\n",
    "                    return f\"Congratulation!\\nTk. {amount} has been successfully transferred to {to_acc} account.\"\n",
    "                else:\n",
    "                    return f\"Sorry, You don't have enough balance to transfer the amount\"\n",
    "            else:\n",
    "                return f\"Sorry! You pin doen't match\"\n",
    "        else:\n",
    "            return f\"Sorry! The account you proived is not a valid account.\"\n",
    "\n",
    "\n",
    "    def __repr__(self) -> str:\n",
    "        return f\"Account Information:\\nAccount No: {self.acc_no}\\nAccount Name: {self.acc_name}\"\n"
   ]
  },
  {
   "cell_type": "code",
   "execution_count": 30,
   "metadata": {},
   "outputs": [],
   "source": [
    "a1 = Accounts('Dip', 1255)\n",
    "a2 = Accounts('Raisa', 8684)\n",
    "a3 = Accounts('Apu', 1283)\n",
    "a4 = Accounts('Jhumur', 237 )"
   ]
  },
  {
   "cell_type": "code",
   "execution_count": 31,
   "metadata": {},
   "outputs": [
    {
     "data": {
      "text/plain": [
       "{1: Account Information:\n",
       " Account No: 1\n",
       " Account Name: Dip,\n",
       " 2: Account Information:\n",
       " Account No: 2\n",
       " Account Name: Raisa,\n",
       " 3: Account Information:\n",
       " Account No: 3\n",
       " Account Name: Apu,\n",
       " 4: Account Information:\n",
       " Account No: 4\n",
       " Account Name: Jhumur}"
      ]
     },
     "execution_count": 31,
     "metadata": {},
     "output_type": "execute_result"
    }
   ],
   "source": [
    "bankdb = {}\n",
    "a1.createAccount(bankdb)\n",
    "a2.createAccount(bankdb)\n",
    "a3.createAccount(bankdb)\n",
    "a4.createAccount(bankdb)\n",
    "bankdb"
   ]
  },
  {
   "cell_type": "code",
   "execution_count": 32,
   "metadata": {},
   "outputs": [
    {
     "data": {
      "text/plain": [
       "800.0"
      ]
     },
     "execution_count": 32,
     "metadata": {},
     "output_type": "execute_result"
    }
   ],
   "source": [
    "a1.deposit(500)\n",
    "a1.deposit(300)\n",
    "a2.deposit(600)\n",
    "a1.balance\n",
    "a1.withdraw(1255, 100)\n",
    "a1.transfer(bankdb, 1255, 200, 2)\n",
    "a2.balance"
   ]
  },
  {
   "cell_type": "code",
   "execution_count": 33,
   "metadata": {},
   "outputs": [
    {
     "data": {
      "text/plain": [
       "500.0"
      ]
     },
     "execution_count": 33,
     "metadata": {},
     "output_type": "execute_result"
    }
   ],
   "source": [
    "bankdb.keys()\n",
    "a1.balance"
   ]
  },
  {
   "cell_type": "code",
   "execution_count": 35,
   "metadata": {},
   "outputs": [],
   "source": [
    "bankdb\n",
    "del a4"
   ]
  },
  {
   "cell_type": "code",
   "execution_count": 36,
   "metadata": {},
   "outputs": [
    {
     "data": {
      "text/plain": [
       "{1: Account Information:\n",
       " Account No: 1\n",
       " Account Name: Dip,\n",
       " 2: Account Information:\n",
       " Account No: 2\n",
       " Account Name: Raisa,\n",
       " 3: Account Information:\n",
       " Account No: 3\n",
       " Account Name: Apu,\n",
       " 4: Account Information:\n",
       " Account No: 4\n",
       " Account Name: Jhumur}"
      ]
     },
     "execution_count": 36,
     "metadata": {},
     "output_type": "execute_result"
    }
   ],
   "source": [
    "bankdb"
   ]
  }
 ],
 "metadata": {
  "kernelspec": {
   "display_name": "Python 3.9.0 ('.env': venv)",
   "language": "python",
   "name": "python3"
  },
  "language_info": {
   "codemirror_mode": {
    "name": "ipython",
    "version": 3
   },
   "file_extension": ".py",
   "mimetype": "text/x-python",
   "name": "python",
   "nbconvert_exporter": "python",
   "pygments_lexer": "ipython3",
   "version": "3.9.0"
  },
  "orig_nbformat": 4,
  "vscode": {
   "interpreter": {
    "hash": "fa623bd44fc5a3453efc0f28b7d576938deaaebcc771c72f05da310f849d904a"
   }
  }
 },
 "nbformat": 4,
 "nbformat_minor": 2
}
