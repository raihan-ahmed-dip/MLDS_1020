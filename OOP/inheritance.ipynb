{
 "cells": [
  {
   "cell_type": "markdown",
   "metadata": {},
   "source": [
    "# Inheritance"
   ]
  },
  {
   "cell_type": "code",
   "execution_count": null,
   "metadata": {},
   "outputs": [],
   "source": [
    "class Product:\n",
    "\n",
    "    platform = 'amazon'\n",
    "\n",
    "    def __init__(self, pid: int, title: str, price: float) -> None:\n",
    "        self.pid = pid\n",
    "        self.title = title\n",
    "        self.price = price\n",
    "\n",
    "    def getDiscount(self) -> float:\n",
    "        return self.price - (self.price*(5/100))\n",
    "\n",
    "    def __repr__(self) -> str:\n",
    "        return f\"Product(pid: {self.pid}, title: {self.title}, price: {self.price})\""
   ]
  },
  {
   "cell_type": "code",
   "execution_count": null,
   "metadata": {},
   "outputs": [],
   "source": [
    "p1 = Product(121, 'iPhone X', 100000)\n",
    "p2 = Product(122, 'Xbox', 50000)\n",
    "p1, p2"
   ]
  },
  {
   "cell_type": "markdown",
   "metadata": {},
   "source": [
    "## Single Inheritance"
   ]
  },
  {
   "cell_type": "code",
   "execution_count": null,
   "metadata": {},
   "outputs": [],
   "source": [
    "class Cloth(Product):\n",
    "    \n",
    "    def __init__(self, pid: int, title: str, price: float, fabric: str) -> None:\n",
    "        self.fabric = fabric\n",
    "        super().__init__(pid, title, price)\n",
    "\n",
    "    # Polymorphism -  runtime polymorphiosm (Method Overriding)\n",
    "    def __repr__(self) -> str:\n",
    "        return f\"Cloth(pid: {self.pid}, title: {self.title}, price: {self.price}, fabric: {self.fabric})\""
   ]
  },
  {
   "cell_type": "code",
   "execution_count": null,
   "metadata": {},
   "outputs": [],
   "source": [
    "c1 = Cloth(pid=321, title='Gucci t-shirt', price=7000.00, fabric=\"cotton\")\n",
    "c1"
   ]
  },
  {
   "cell_type": "code",
   "execution_count": null,
   "metadata": {},
   "outputs": [],
   "source": [
    "Cloth.__mro__       # Method resolution - checking the priority of classes \n",
    "Cloth.mro()"
   ]
  },
  {
   "cell_type": "markdown",
   "metadata": {},
   "source": [
    "## Multilevel Inheritance"
   ]
  },
  {
   "cell_type": "code",
   "execution_count": null,
   "metadata": {},
   "outputs": [],
   "source": [
    "class Topwear(Cloth):\n",
    "    def __init__(self, pid: int, title: str, price: float, fabric: str, type: str) -> None:\n",
    "        self.type = type\n",
    "        super().__init__(pid, title, price, fabric)\n",
    "    \n",
    "    def __repr__(self) -> str:\n",
    "        return f\"Topwear(pid: {self.pid}, title: {self.title}, price: {self.price}, fabric: {self.fabric}, type: {self.type})\""
   ]
  },
  {
   "cell_type": "code",
   "execution_count": null,
   "metadata": {},
   "outputs": [],
   "source": [
    "t1 = Topwear(pid=541, title=\"Zara Shirt\", price=5050.50, fabric=\"Wool\", type=\"Shirt\")\n",
    "t1"
   ]
  },
  {
   "cell_type": "markdown",
   "metadata": {},
   "source": [
    "## Multiple Inheritance"
   ]
  },
  {
   "cell_type": "code",
   "execution_count": null,
   "metadata": {},
   "outputs": [],
   "source": [
    "class Seller:\n",
    "    def __init__(self, sid: int, sname: str) -> None:\n",
    "        self.sid = sid\n",
    "        self.sname = sname\n",
    "\n",
    "    def __repr__(self) -> str:\n",
    "        return f\"Seller(sid: {self.sid}, sname: {self.name})\""
   ]
  },
  {
   "cell_type": "code",
   "execution_count": null,
   "metadata": {},
   "outputs": [],
   "source": [
    "# Multiple Inheritance\n",
    "class Mobile(Product, Seller):\n",
    "    def __init__(self, pid: int, title: str, price: float, sid: int, sname: str) -> None:\n",
    "        Product.__init__(self,pid, title, price)\n",
    "        Seller.__init__(self, sid, sname)\n",
    "    \n",
    "    def getIds(self):\n",
    "        return {\n",
    "            'platform': Product.platform,       # As it is class variable\n",
    "            'seller': self.sname,                # As it is initialized when called\n",
    "            'discount': self.getDiscount()\n",
    "        }\n",
    "\n",
    "    def __repr__(self) -> str:\n",
    "        return f\"Mobile(pid: {self.pid}, title: {self.title}, price: {self.price}, sid: {self.sid}, sname: {self.sname})\""
   ]
  },
  {
   "cell_type": "code",
   "execution_count": null,
   "metadata": {},
   "outputs": [],
   "source": [
    "Mobile.__mro__"
   ]
  },
  {
   "cell_type": "code",
   "execution_count": null,
   "metadata": {},
   "outputs": [],
   "source": [
    "m1 = Mobile(pid=666, title=\"iPhone 14 Pro Max\", price=265000, sid=32, sname=\"Alex Brunt\")\n",
    "m1"
   ]
  },
  {
   "cell_type": "code",
   "execution_count": null,
   "metadata": {},
   "outputs": [],
   "source": [
    "m1.getIds()"
   ]
  },
  {
   "cell_type": "markdown",
   "metadata": {},
   "source": [
    "## Stop Inheritance"
   ]
  },
  {
   "cell_type": "code",
   "execution_count": null,
   "metadata": {},
   "outputs": [],
   "source": [
    "class Meta(type):\n",
    "    def __new__(cls, name, bases, classdict):\n",
    "        for base in bases:\n",
    "            if isinstance(base, Meta):\n",
    "                raise TypeError(f\"Cannot inherit class {base.__name__}\")\n",
    "        return type.__new__(cls, name, bases, classdict)"
   ]
  },
  {
   "cell_type": "code",
   "execution_count": null,
   "metadata": {},
   "outputs": [],
   "source": [
    "class Seller(metaclass=Meta):\n",
    "    def __init__(self, sid: int, sname: str) -> None:\n",
    "        self.sid = sid\n",
    "        self.sname = sname\n",
    "\n",
    "    def __repr__(self) -> str:\n",
    "        return f\"Seller(sid: {self.sid}, sname: {self.name})\""
   ]
  },
  {
   "cell_type": "code",
   "execution_count": null,
   "metadata": {},
   "outputs": [],
   "source": [
    "class StreetSeller(Seller):\n",
    "    pass"
   ]
  }
 ],
 "metadata": {
  "kernelspec": {
   "display_name": "Python 3.9.5 ('.env': venv)",
   "language": "python",
   "name": "python3"
  },
  "language_info": {
   "codemirror_mode": {
    "name": "ipython",
    "version": 3
   },
   "file_extension": ".py",
   "mimetype": "text/x-python",
   "name": "python",
   "nbconvert_exporter": "python",
   "pygments_lexer": "ipython3",
   "version": "3.9.5"
  },
  "orig_nbformat": 4,
  "vscode": {
   "interpreter": {
    "hash": "fa623bd44fc5a3453efc0f28b7d576938deaaebcc771c72f05da310f849d904a"
   }
  }
 },
 "nbformat": 4,
 "nbformat_minor": 2
}
