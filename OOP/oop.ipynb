{
 "cells": [
  {
   "cell_type": "markdown",
   "metadata": {},
   "source": [
    "# OOP - Object Oriented Programming\n",
    "- Class\n",
    "- Objects\n",
    "- Encapsulation\n",
    "- Abstraction\n",
    "- Inheritance\n",
    "- Polymorphism"
   ]
  },
  {
   "cell_type": "code",
   "execution_count": 16,
   "metadata": {},
   "outputs": [],
   "source": [
    "# Class\n",
    "class Product:\n",
    "    \"\"\"\n",
    "    This is the doc string. This is Product class. \n",
    "    \"\"\"\n",
    "\n",
    "    # class attributes\n",
    "    platform = \"amazon\"\n",
    "\n",
    "    # constractor\n",
    "    def __init__(self, pid: int, title: str, price: float, *args, **kwargs) -> None:\n",
    "        self.pid = pid\n",
    "        self.title = title\n",
    "        self.price = price\n",
    "        print(\"Initialized...\")\n",
    "\n",
    "    # class methods\n",
    "    def getPrice(self) -> float:\n",
    "        return self.price\n",
    "    \n",
    "    def getDiscount(self) -> float:\n",
    "        return self.price - (self.price*(5/100))\n",
    "\n",
    "    # Special or Magic methods\n",
    "    def __str__(self) -> str:\n",
    "        return f\"Product(pid = {self.pid}, title = {self.title}, price = {self.price})\"\n",
    "\n",
    "    def __repr__(self) -> str:\n",
    "        \"\"\"\n",
    "        This works even without print\n",
    "        \"\"\"\n",
    "        return f\"Product(pid = {self.pid}, title = {self.title}, price = {self.price})\""
   ]
  },
  {
   "cell_type": "code",
   "execution_count": 19,
   "metadata": {},
   "outputs": [
    {
     "name": "stdout",
     "output_type": "stream",
     "text": [
      "Initialized...\n",
      "Initialized...\n"
     ]
    },
    {
     "data": {
      "text/plain": [
       "Product(pid = 121, title = Iphone X, price = 120000.0)"
      ]
     },
     "execution_count": 19,
     "metadata": {},
     "output_type": "execute_result"
    }
   ],
   "source": [
    "# Object\n",
    "p1 = Product(121, 'Iphone X', 120000.0)\n",
    "p2 = Product(123, 'Xbox', 40000)\n",
    "p1"
   ]
  },
  {
   "cell_type": "code",
   "execution_count": 20,
   "metadata": {},
   "outputs": [
    {
     "data": {
      "text/plain": [
       "('amazon', 'amazon')"
      ]
     },
     "execution_count": 20,
     "metadata": {},
     "output_type": "execute_result"
    }
   ],
   "source": [
    "p1.platform, p2.platform"
   ]
  },
  {
   "cell_type": "code",
   "execution_count": 21,
   "metadata": {},
   "outputs": [
    {
     "data": {
      "text/plain": [
       "(120000.0, 40000)"
      ]
     },
     "execution_count": 21,
     "metadata": {},
     "output_type": "execute_result"
    }
   ],
   "source": [
    "p1.price, p2.price"
   ]
  },
  {
   "cell_type": "code",
   "execution_count": 24,
   "metadata": {},
   "outputs": [
    {
     "data": {
      "text/plain": [
       "38000.0"
      ]
     },
     "execution_count": 24,
     "metadata": {},
     "output_type": "execute_result"
    }
   ],
   "source": [
    "p1.getDiscount()\n",
    "p2.getDiscount()"
   ]
  }
 ],
 "metadata": {
  "kernelspec": {
   "display_name": "Python 3.9.5 64-bit",
   "language": "python",
   "name": "python3"
  },
  "language_info": {
   "codemirror_mode": {
    "name": "ipython",
    "version": 3
   },
   "file_extension": ".py",
   "mimetype": "text/x-python",
   "name": "python",
   "nbconvert_exporter": "python",
   "pygments_lexer": "ipython3",
   "version": "3.9.5"
  },
  "orig_nbformat": 4,
  "vscode": {
   "interpreter": {
    "hash": "11938c6bc6919ae2720b4d5011047913343b08a43b18698fd82dedb0d4417594"
   }
  }
 },
 "nbformat": 4,
 "nbformat_minor": 2
}
