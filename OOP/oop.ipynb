{
 "cells": [
  {
   "cell_type": "markdown",
   "metadata": {},
   "source": [
    "# OOP - Object Oriented Programming\n",
    "- Class\n",
    "- Objects\n",
    "- Encapsulation\n",
    "- Abstraction\n",
    "- Inheritance\n",
    "- Polymorphism"
   ]
  },
  {
   "cell_type": "code",
   "execution_count": 14,
   "metadata": {},
   "outputs": [],
   "source": [
    "# Class\n",
    "class Product:\n",
    "    \"\"\"\n",
    "    This is the doc string. This is Product class. \n",
    "    \"\"\"\n",
    "\n",
    "    # class attributes\n",
    "    platform = \"amazon\"\n",
    "\n",
    "    # constractor\n",
    "    def __init__(self, pid: int, title: str, price: float, *args, **kwargs) -> None:\n",
    "        self.pid = pid\n",
    "        self.title = title\n",
    "        self.price = price\n",
    "        self.__code = 12312     # Can use __ to make a variable/ attribute private \n",
    "        print(\"Initialized...\")\n",
    "\n",
    "    # class methods\n",
    "    def getPrice(self) -> float:\n",
    "        return self.price\n",
    "    \n",
    "    def getDiscount(self) -> float:\n",
    "        return self.price - (self.price*(5/100))\n",
    "\n",
    "    # Special or Magic methods\n",
    "    def __str__(self) -> str:\n",
    "        return f\"Product(pid = {self.pid}, title = {self.title}, price = {self.price})\"\n",
    "\n",
    "    def __repr__(self) -> str:\n",
    "        \"\"\"\n",
    "        This works even without print\n",
    "        \"\"\"\n",
    "        return f\"Product(pid = {self.pid}, title = {self.title}, price = {self.price})\""
   ]
  },
  {
   "cell_type": "code",
   "execution_count": 15,
   "metadata": {},
   "outputs": [
    {
     "name": "stdout",
     "output_type": "stream",
     "text": [
      "Initialized...\n",
      "Initialized...\n"
     ]
    },
    {
     "data": {
      "text/plain": [
       "Product(pid = 121, title = Iphone X, price = 120000.0)"
      ]
     },
     "execution_count": 15,
     "metadata": {},
     "output_type": "execute_result"
    }
   ],
   "source": [
    "# Object\n",
    "p1 = Product(121, 'Iphone X', 120000.0)\n",
    "p2 = Product(123, 'Xbox', 40000)\n",
    "p1"
   ]
  },
  {
   "cell_type": "code",
   "execution_count": 16,
   "metadata": {},
   "outputs": [
    {
     "data": {
      "text/plain": [
       "('amazon', 'amazon')"
      ]
     },
     "execution_count": 16,
     "metadata": {},
     "output_type": "execute_result"
    }
   ],
   "source": [
    "p1.platform, p2.platform"
   ]
  },
  {
   "cell_type": "code",
   "execution_count": 17,
   "metadata": {},
   "outputs": [
    {
     "data": {
      "text/plain": [
       "(120000.0, 40000)"
      ]
     },
     "execution_count": 17,
     "metadata": {},
     "output_type": "execute_result"
    }
   ],
   "source": [
    "p1.price, p2.price"
   ]
  },
  {
   "cell_type": "code",
   "execution_count": 18,
   "metadata": {},
   "outputs": [
    {
     "data": {
      "text/plain": [
       "38000.0"
      ]
     },
     "execution_count": 18,
     "metadata": {},
     "output_type": "execute_result"
    }
   ],
   "source": [
    "p1.getDiscount()\n",
    "p2.getDiscount()"
   ]
  },
  {
   "cell_type": "code",
   "execution_count": 19,
   "metadata": {},
   "outputs": [
    {
     "ename": "AttributeError",
     "evalue": "'Product' object has no attribute '__code'",
     "output_type": "error",
     "traceback": [
      "\u001b[1;31m---------------------------------------------------------------------------\u001b[0m",
      "\u001b[1;31mAttributeError\u001b[0m                            Traceback (most recent call last)",
      "Cell \u001b[1;32mIn [19], line 1\u001b[0m\n\u001b[1;32m----> 1\u001b[0m p2\u001b[39m.\u001b[39m__code\n",
      "\u001b[1;31mAttributeError\u001b[0m: 'Product' object has no attribute '__code'"
     ]
    }
   ],
   "source": [
    "p2.__code"
   ]
  },
  {
   "cell_type": "markdown",
   "metadata": {},
   "source": [
    "## getters, setters. deleters"
   ]
  },
  {
   "cell_type": "code",
   "execution_count": 20,
   "metadata": {},
   "outputs": [],
   "source": [
    "# Class\n",
    "class Xroduct:\n",
    "    \"\"\"\n",
    "    This is the doc string. This is Product class. \n",
    "    \"\"\"\n",
    "\n",
    "    # class attributes\n",
    "    platform = \"amazon\"\n",
    "\n",
    "    # constractor\n",
    "    def __init__(self, pid: int, title: str, price: float, *args, **kwargs) -> None:\n",
    "        self.pid = pid\n",
    "        self.title = title\n",
    "        self.price = price\n",
    "        self.__code = 12312     \n",
    "\n",
    "    # getter\n",
    "    @property\n",
    "    def code(self):\n",
    "        return self.__code\n",
    "\n",
    "    # settter\n",
    "    @code.setter\n",
    "    def code(self, new: int):\n",
    "        self.__code = new\n",
    "\n",
    "    # deleter\n",
    "    @code.deleter\n",
    "    def code(self):\n",
    "        del self.__code\n",
    "\n",
    "    # Special or Magic methods\n",
    "    def __str__(self) -> str:\n",
    "        return f\"Product(pid = {self.pid}, title = {self.title}, price = {self.price})\"\n",
    "\n",
    "    def __repr__(self) -> str:\n",
    "        return f\"Product(pid = {self.pid}, title = {self.title}, price = {self.price})\""
   ]
  },
  {
   "cell_type": "code",
   "execution_count": 21,
   "metadata": {},
   "outputs": [],
   "source": [
    "p3 = Xroduct(12121, 'iPhone 13', 165000.0)\n",
    "p4 = Xroduct(323, 'Play Station', 56000)"
   ]
  },
  {
   "cell_type": "code",
   "execution_count": 22,
   "metadata": {},
   "outputs": [
    {
     "data": {
      "text/plain": [
       "12312"
      ]
     },
     "execution_count": 22,
     "metadata": {},
     "output_type": "execute_result"
    }
   ],
   "source": [
    "p3.code     # calling getter\n"
   ]
  },
  {
   "cell_type": "code",
   "execution_count": 23,
   "metadata": {},
   "outputs": [],
   "source": [
    "p3.code = 41\n",
    "p4.code = 38"
   ]
  },
  {
   "cell_type": "code",
   "execution_count": 24,
   "metadata": {},
   "outputs": [],
   "source": [
    "del p4.code"
   ]
  },
  {
   "cell_type": "code",
   "execution_count": 25,
   "metadata": {},
   "outputs": [
    {
     "data": {
      "text/plain": [
       "41"
      ]
     },
     "execution_count": 25,
     "metadata": {},
     "output_type": "execute_result"
    }
   ],
   "source": [
    "p3.code"
   ]
  }
 ],
 "metadata": {
  "kernelspec": {
   "display_name": "Python 3.9.5 64-bit",
   "language": "python",
   "name": "python3"
  },
  "language_info": {
   "codemirror_mode": {
    "name": "ipython",
    "version": 3
   },
   "file_extension": ".py",
   "mimetype": "text/x-python",
   "name": "python",
   "nbconvert_exporter": "python",
   "pygments_lexer": "ipython3",
   "version": "3.9.5"
  },
  "orig_nbformat": 4,
  "vscode": {
   "interpreter": {
    "hash": "11938c6bc6919ae2720b4d5011047913343b08a43b18698fd82dedb0d4417594"
   }
  }
 },
 "nbformat": 4,
 "nbformat_minor": 2
}
