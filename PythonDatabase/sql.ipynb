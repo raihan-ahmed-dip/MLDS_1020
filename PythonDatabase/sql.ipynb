{
 "cells": [
  {
   "cell_type": "code",
   "execution_count": 1,
   "metadata": {},
   "outputs": [],
   "source": [
    "import sqlite3"
   ]
  },
  {
   "cell_type": "markdown",
   "metadata": {},
   "source": [
    "## Database Connection"
   ]
  },
  {
   "cell_type": "code",
   "execution_count": 2,
   "metadata": {},
   "outputs": [
    {
     "name": "stdout",
     "output_type": "stream",
     "text": [
      "<sqlite3.Connection object at 0x0000021347D308A0>\n"
     ]
    }
   ],
   "source": [
    "conn = sqlite3.connect('test.sqlite3')\n",
    "print(conn)\n",
    "conn.close()"
   ]
  },
  {
   "cell_type": "markdown",
   "metadata": {},
   "source": [
    "## CREATE Table"
   ]
  },
  {
   "cell_type": "code",
   "execution_count": 3,
   "metadata": {},
   "outputs": [],
   "source": [
    "with sqlite3.connect('test.sqlite3') as conn:\n",
    "    cursor = conn.cursor()\n",
    "    cursor.execute(\n",
    "        \"\"\"CREATE TABLE student (roll INT, name TEXT, age INT)\"\"\"\n",
    "    )\n",
    "    conn.commit()"
   ]
  },
  {
   "cell_type": "markdown",
   "metadata": {},
   "source": [
    "## INSERT Into Table"
   ]
  },
  {
   "cell_type": "code",
   "execution_count": 4,
   "metadata": {},
   "outputs": [],
   "source": [
    "with sqlite3.connect('test.sqlite3') as conn:\n",
    "    cursor = conn.cursor()\n",
    "    cursor.execute(\n",
    "        \"\"\"\n",
    "        INSERT INTO student VALUES(?, ?, ?)\n",
    "        \"\"\", (101, \"Tessa\", 24)\n",
    "    )\n",
    "    conn.commit()"
   ]
  },
  {
   "cell_type": "markdown",
   "metadata": {},
   "source": [
    "## SELECT - Fetching Data from Table"
   ]
  },
  {
   "cell_type": "code",
   "execution_count": 5,
   "metadata": {},
   "outputs": [
    {
     "name": "stdout",
     "output_type": "stream",
     "text": [
      "[(101, 'Tessa', 24)]\n"
     ]
    }
   ],
   "source": [
    "with sqlite3.connect('test.sqlite3') as scon:\n",
    "    cursor = scon.cursor()\n",
    "    result = cursor.execute(\n",
    "        \"\"\"SELECT * FROM student\"\"\"\n",
    "    )\n",
    "    print(list(result))"
   ]
  },
  {
   "cell_type": "markdown",
   "metadata": {},
   "source": [
    "## Multiple data Insert and Fetching"
   ]
  },
  {
   "cell_type": "code",
   "execution_count": 6,
   "metadata": {},
   "outputs": [],
   "source": [
    "users = [\n",
    "    (102, \"John Smith\", 27),\n",
    "    (103, \"Marie Hard\", 45),\n",
    "    (104, \"Lisa Bloomberg\", 21),\n",
    "    (105, \"Karen Richard\", 26)\n",
    "]"
   ]
  },
  {
   "cell_type": "code",
   "execution_count": 7,
   "metadata": {},
   "outputs": [],
   "source": [
    "# Inserting mutiple data\n",
    "with sqlite3.connect('test.sqlite3') as iconn:\n",
    "    cursor = iconn.cursor()\n",
    "    cursor.executemany(\n",
    "        \"\"\" INSERT INTO student VALUES(?, ?, ?) \"\"\", users\n",
    "    )\n",
    "    iconn.commit()"
   ]
  },
  {
   "cell_type": "code",
   "execution_count": 8,
   "metadata": {},
   "outputs": [
    {
     "name": "stdout",
     "output_type": "stream",
     "text": [
      "[(101, 'Tessa', 24), (102, 'John Smith', 27), (103, 'Marie Hard', 45), (104, 'Lisa Bloomberg', 21), (105, 'Karen Richard', 26)]\n"
     ]
    }
   ],
   "source": [
    "# Fetching Multiple Data\n",
    "with sqlite3.connect('test.sqlite3') as mcon:\n",
    "    cursor = mcon.cursor()\n",
    "    results = cursor.execute(\n",
    "        \"\"\"SELECT * FROM student\"\"\"\n",
    "    )\n",
    "    #print(list(results)) # Fetch All the result\n",
    "    #print(list(results.fetchone())) # Fetch the first one\n",
    "    #print(list(results.fetchmany(3))) # Fetch the first 3 \n",
    "    print(list(results.fetchall())) # Fetch all the data\n"
   ]
  },
  {
   "cell_type": "markdown",
   "metadata": {},
   "source": [
    "## WHERE Clause - Filtering Rows"
   ]
  },
  {
   "cell_type": "code",
   "execution_count": 9,
   "metadata": {},
   "outputs": [
    {
     "name": "stdout",
     "output_type": "stream",
     "text": [
      "[(102, 'John Smith', 27), (103, 'Marie Hard', 45), (105, 'Karen Richard', 26)]\n"
     ]
    }
   ],
   "source": [
    "with sqlite3.connect('test.sqlite3') as conn:\n",
    "    cursor = conn.cursor()\n",
    "    result = cursor.execute(\n",
    "        \"\"\"SELECT * FROM student WHERE age > ?\"\"\", (25, )\n",
    "    )\n",
    "    print(list(result.fetchmany(3)))"
   ]
  },
  {
   "cell_type": "markdown",
   "metadata": {},
   "source": [
    "## AND, IN, OR, NOT"
   ]
  },
  {
   "cell_type": "code",
   "execution_count": 10,
   "metadata": {},
   "outputs": [
    {
     "name": "stdout",
     "output_type": "stream",
     "text": [
      "[(102, 'John Smith', 27), (105, 'Karen Richard', 26)]\n"
     ]
    }
   ],
   "source": [
    "# AND\n",
    "with sqlite3.connect('test.sqlite3') as conn:\n",
    "    cursor = conn.cursor()\n",
    "    result = cursor.execute(\n",
    "        \"\"\" SELECT * FROM student WHERE age > ? AND age < ? \"\"\", (25, 40,)\n",
    "    )\n",
    "    print(list(result))"
   ]
  },
  {
   "cell_type": "code",
   "execution_count": 11,
   "metadata": {},
   "outputs": [
    {
     "name": "stdout",
     "output_type": "stream",
     "text": [
      "[(101, 'Tessa', 24), (103, 'Marie Hard', 45), (104, 'Lisa Bloomberg', 21)]\n"
     ]
    }
   ],
   "source": [
    "# OR\n",
    "with sqlite3.connect('test.sqlite3') as conn:\n",
    "    cursor = conn.cursor()\n",
    "    result = cursor.execute(\n",
    "        \"\"\" SELECT * FROM student WHERE age < ? OR age > ? \"\"\", (25, 40, )\n",
    "    )\n",
    "    print(list(result))"
   ]
  },
  {
   "cell_type": "code",
   "execution_count": 12,
   "metadata": {},
   "outputs": [
    {
     "name": "stdout",
     "output_type": "stream",
     "text": [
      "[(101, 'Tessa', 24), (104, 'Lisa Bloomberg', 21)]\n"
     ]
    }
   ],
   "source": [
    "# NOT\n",
    "with sqlite3.connect('test.sqlite3') as conn:\n",
    "    cursor = conn.cursor()\n",
    "    result  =cursor.execute(\n",
    "        \"\"\" SELECT * FROM student WHERE NOT age > ? \"\"\", (25, )\n",
    "    )\n",
    "    print(list(result))"
   ]
  },
  {
   "cell_type": "code",
   "execution_count": 13,
   "metadata": {},
   "outputs": [
    {
     "name": "stdout",
     "output_type": "stream",
     "text": [
      "[(102, 'John Smith', 27), (105, 'Karen Richard', 26)]\n"
     ]
    }
   ],
   "source": [
    "# IN\n",
    "with sqlite3.connect('test.sqlite3') as conn:\n",
    "    cursor = conn.cursor()\n",
    "    result  =cursor.execute(\n",
    "        \"\"\" SELECT * FROM student WHERE age IN (?, ?, ?) \"\"\", (25, 26, 27, )\n",
    "    )\n",
    "    print(list(result))"
   ]
  },
  {
   "cell_type": "markdown",
   "metadata": {},
   "source": [
    "## Wildcards and LIKE"
   ]
  },
  {
   "cell_type": "code",
   "execution_count": 14,
   "metadata": {},
   "outputs": [
    {
     "name": "stdout",
     "output_type": "stream",
     "text": [
      "[(101, 'Tessa', 24)]\n"
     ]
    }
   ],
   "source": [
    "with sqlite3.connect('test.sqlite3') as conn:\n",
    "    cursor = conn.cursor()\n",
    "    result = cursor.execute(\n",
    "        \"\"\" SELECT * FROM student WHERE name LIKE '%a' \"\"\"\n",
    "    )\n",
    "    print(list(result))"
   ]
  },
  {
   "cell_type": "code",
   "execution_count": 15,
   "metadata": {},
   "outputs": [
    {
     "name": "stdout",
     "output_type": "stream",
     "text": [
      "[(103, 'Marie Hard', 45), (104, 'Lisa Bloomberg', 21), (105, 'Karen Richard', 26)]\n"
     ]
    }
   ],
   "source": [
    "with sqlite3.connect('test.sqlite3') as conn:\n",
    "    cursor = conn.cursor()\n",
    "    result = cursor.execute(\n",
    "        \"\"\" SELECT * FROM student WHERE name LIKE '%r_' \"\"\"\n",
    "    )\n",
    "    print(list(result))"
   ]
  },
  {
   "cell_type": "markdown",
   "metadata": {},
   "source": [
    "## Aggregation"
   ]
  },
  {
   "cell_type": "code",
   "execution_count": 16,
   "metadata": {},
   "outputs": [
    {
     "name": "stdout",
     "output_type": "stream",
     "text": [
      "[(45, 28.6, 5, 143)]\n"
     ]
    }
   ],
   "source": [
    "with sqlite3.connect('test.sqlite3') as conn:\n",
    "    cursor = conn.cursor()\n",
    "    result = cursor.execute(\n",
    "        \"\"\" SELECT MAX(age), AVG(age), COUNT(*), SUM(age) FROM student \"\"\"\n",
    "    )\n",
    "    print(list(result))"
   ]
  },
  {
   "cell_type": "markdown",
   "metadata": {},
   "source": [
    "## GROUP BY"
   ]
  },
  {
   "cell_type": "code",
   "execution_count": 17,
   "metadata": {},
   "outputs": [
    {
     "name": "stdout",
     "output_type": "stream",
     "text": [
      "[(1,), (1,), (1,), (1,), (1,)]\n"
     ]
    }
   ],
   "source": [
    "with sqlite3.connect('test.sqlite3') as conn:\n",
    "    cursor = conn.cursor()\n",
    "    result = cursor.execute(\n",
    "        \"\"\" SELECT COUNT(age) FROM student GROUP BY age \"\"\"\n",
    "    )\n",
    "    print(list(result))"
   ]
  },
  {
   "cell_type": "markdown",
   "metadata": {},
   "source": [
    "## ORDER BY"
   ]
  },
  {
   "cell_type": "code",
   "execution_count": 18,
   "metadata": {},
   "outputs": [
    {
     "name": "stdout",
     "output_type": "stream",
     "text": [
      "104 Lisa Bloomberg 21\n",
      "101 Tessa 24\n",
      "105 Karen Richard 26\n",
      "102 John Smith 27\n",
      "103 Marie Hard 45\n"
     ]
    }
   ],
   "source": [
    "with sqlite3.connect('test.sqlite3') as conn:\n",
    "    cursor = conn.cursor()\n",
    "    result = cursor.execute(\n",
    "        \"\"\" SELECT * FROM student ORDER BY age \"\"\"\n",
    "    )\n",
    "    for roll, name, age in result:\n",
    "        print(roll, name, age)"
   ]
  },
  {
   "cell_type": "code",
   "execution_count": 19,
   "metadata": {},
   "outputs": [
    {
     "name": "stdout",
     "output_type": "stream",
     "text": [
      "101 Tessa 24\n",
      "103 Marie Hard 45\n",
      "104 Lisa Bloomberg 21\n",
      "105 Karen Richard 26\n",
      "102 John Smith 27\n"
     ]
    }
   ],
   "source": [
    "with sqlite3.connect('test.sqlite3') as conn:\n",
    "    cursor = conn.cursor()\n",
    "    result = cursor.execute(\n",
    "        \"\"\" SELECT * FROM student ORDER BY name DESC, age ASC \"\"\"\n",
    "    )\n",
    "    for roll, name, age in result:\n",
    "        print(roll, name, age)"
   ]
  },
  {
   "cell_type": "markdown",
   "metadata": {},
   "source": [
    "# Updating Rows"
   ]
  },
  {
   "cell_type": "code",
   "execution_count": 20,
   "metadata": {},
   "outputs": [
    {
     "name": "stdout",
     "output_type": "stream",
     "text": [
      "101 Tessa 26\n",
      "102 John Smith 27\n",
      "103 Marie Hard 45\n",
      "104 Lisa Bloomberg 21\n",
      "105 Karen Richard 26\n"
     ]
    }
   ],
   "source": [
    "with sqlite3.connect('test.sqlite3') as conn:\n",
    "    cursor = conn.cursor()\n",
    "    cursor.execute(\n",
    "        \"\"\" UPDATE student SET age = ? WHERE roll = ? \"\"\", (26, 101,)\n",
    "    )\n",
    "    result = cursor.execute(\n",
    "        \"\"\" SELECT * FROM student \"\"\"\n",
    "    )\n",
    "    for roll, name, age in result:\n",
    "        print(roll, name, age)"
   ]
  },
  {
   "cell_type": "markdown",
   "metadata": {},
   "source": [
    "# DELETE "
   ]
  },
  {
   "cell_type": "code",
   "execution_count": 21,
   "metadata": {},
   "outputs": [
    {
     "name": "stdout",
     "output_type": "stream",
     "text": [
      "101 Tessa 26\n",
      "102 John Smith 27\n",
      "103 Marie Hard 45\n",
      "104 Lisa Bloomberg 21\n"
     ]
    }
   ],
   "source": [
    "with sqlite3.connect('test.sqlite3') as conn:\n",
    "    cursor = conn.cursor()\n",
    "    cursor.execute(\n",
    "        \"\"\" DELETE FROM student WHERE roll = ? \"\"\", (105, )\n",
    "    )\n",
    "    result = cursor.execute(\n",
    "        \"\"\" SELECT * FROM student \"\"\"\n",
    "    )\n",
    "    for roll, name, age in result:\n",
    "        print(roll, name, age)"
   ]
  },
  {
   "cell_type": "markdown",
   "metadata": {},
   "source": [
    "# DROP Table"
   ]
  },
  {
   "cell_type": "code",
   "execution_count": 22,
   "metadata": {},
   "outputs": [
    {
     "ename": "OperationalError",
     "evalue": "no such table: student",
     "output_type": "error",
     "traceback": [
      "\u001b[1;31m---------------------------------------------------------------------------\u001b[0m",
      "\u001b[1;31mOperationalError\u001b[0m                          Traceback (most recent call last)",
      "Cell \u001b[1;32mIn [22], line 8\u001b[0m\n\u001b[0;32m      2\u001b[0m cursor \u001b[39m=\u001b[39m conn\u001b[39m.\u001b[39mcursor()\n\u001b[0;32m      3\u001b[0m cursor\u001b[39m.\u001b[39mexecute(\n\u001b[0;32m      4\u001b[0m     \u001b[39m\"\"\" \u001b[39;00m\n\u001b[0;32m      5\u001b[0m \u001b[39m    DROP TABLE student\u001b[39;00m\n\u001b[0;32m      6\u001b[0m \u001b[39m    \"\"\"\u001b[39;00m\n\u001b[0;32m      7\u001b[0m )\n\u001b[1;32m----> 8\u001b[0m result \u001b[39m=\u001b[39m cursor\u001b[39m.\u001b[39;49mexecute(\n\u001b[0;32m      9\u001b[0m     \u001b[39m\"\"\" SELECT * FROM student \"\"\"\u001b[39;49;00m\n\u001b[0;32m     10\u001b[0m )\n\u001b[0;32m     11\u001b[0m \u001b[39mfor\u001b[39;00m roll, name, age \u001b[39min\u001b[39;00m result:\n\u001b[0;32m     12\u001b[0m     \u001b[39mprint\u001b[39m(roll, name, age)\n",
      "\u001b[1;31mOperationalError\u001b[0m: no such table: student"
     ]
    }
   ],
   "source": [
    "with sqlite3.connect('test.sqlite3') as conn:\n",
    "    cursor = conn.cursor()\n",
    "    cursor.execute(\n",
    "        \"\"\" \n",
    "        DROP TABLE student\n",
    "        \"\"\"\n",
    "    )\n",
    "    result = cursor.execute(\n",
    "        \"\"\" SELECT * FROM student \"\"\"\n",
    "    )\n",
    "    for roll, name, age in result:\n",
    "        print(roll, name, age)"
   ]
  }
 ],
 "metadata": {
  "kernelspec": {
   "display_name": "Python 3.9.5 ('.env': venv)",
   "language": "python",
   "name": "python3"
  },
  "language_info": {
   "codemirror_mode": {
    "name": "ipython",
    "version": 3
   },
   "file_extension": ".py",
   "mimetype": "text/x-python",
   "name": "python",
   "nbconvert_exporter": "python",
   "pygments_lexer": "ipython3",
   "version": "3.9.5"
  },
  "orig_nbformat": 4,
  "vscode": {
   "interpreter": {
    "hash": "fa623bd44fc5a3453efc0f28b7d576938deaaebcc771c72f05da310f849d904a"
   }
  }
 },
 "nbformat": 4,
 "nbformat_minor": 2
}
