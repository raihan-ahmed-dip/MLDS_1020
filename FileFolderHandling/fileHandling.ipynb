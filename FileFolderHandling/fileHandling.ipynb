{
 "cells": [
  {
   "cell_type": "markdown",
   "metadata": {},
   "source": [
    "# File Handling"
   ]
  },
  {
   "cell_type": "code",
   "execution_count": 16,
   "metadata": {},
   "outputs": [],
   "source": [
    "# write mode\n",
    "file1 = open('file1.txt', mode='w')\n",
    "file1.write(\"Hola, Bonjourno Princepessa\")\n",
    "file1.writelines([\n",
    "    '\\nLine 2', '\\nLine 3', '\\nLine 4'\n",
    "])\n",
    "file1.close()"
   ]
  },
  {
   "cell_type": "code",
   "execution_count": 17,
   "metadata": {},
   "outputs": [],
   "source": [
    "# append mode\n",
    "file1 = open('file1.txt', mode='a')\n",
    "file1.writelines([\n",
    "    '\\nLine 5', '\\nLine 6'\n",
    "])\n",
    "file1.close()"
   ]
  },
  {
   "cell_type": "code",
   "execution_count": null,
   "metadata": {},
   "outputs": [],
   "source": [
    "# exclusive mode - if file exist it won't write\n",
    "file1 = open('file1.txt', mode='x')\n",
    "file1.write(\"Hola, Bonjourno Princepessa\")\n",
    "file1.writelines([\n",
    "    '\\nLine 2', '\\nLine 3', '\\nLine 4'\n",
    "])\n",
    "file1.close()"
   ]
  },
  {
   "cell_type": "code",
   "execution_count": 18,
   "metadata": {},
   "outputs": [
    {
     "name": "stdout",
     "output_type": "stream",
     "text": [
      "Hola, Bonjourno Princepessa\n",
      "Line 2\n",
      "Line 3\n",
      "Line 4\n",
      "Line 5\n",
      "Line 6\n"
     ]
    }
   ],
   "source": [
    "# read mode\n",
    "file1 = open('file1.txt', mode='r')\n",
    "print(file1.read())\n",
    "file1.close()"
   ]
  },
  {
   "cell_type": "code",
   "execution_count": 20,
   "metadata": {},
   "outputs": [
    {
     "name": "stdout",
     "output_type": "stream",
     "text": [
      "Hola, Bonjou\n"
     ]
    }
   ],
   "source": [
    "file1 = open('file1.txt', mode='r')\n",
    "print(file1.read(12))           # read the number of characters\n",
    "file1.close()"
   ]
  },
  {
   "cell_type": "code",
   "execution_count": 30,
   "metadata": {},
   "outputs": [
    {
     "name": "stdout",
     "output_type": "stream",
     "text": [
      "['Hola, Bonjourno Princepessa\\n', 'Line 2\\n', 'Line 3\\n', 'Line 4\\n', 'Line 5\\n', 'Line 6']\n"
     ]
    }
   ],
   "source": [
    "file1=open('file1.txt', mode='r')\n",
    "print(file1.readlines())        # read all lines in list format\n",
    "file1.close()"
   ]
  },
  {
   "cell_type": "code",
   "execution_count": 34,
   "metadata": {},
   "outputs": [
    {
     "name": "stdout",
     "output_type": "stream",
     "text": [
      "Hola, Bonjourno Princepessa\n",
      "\n"
     ]
    }
   ],
   "source": [
    "file1 = open('file1.txt', mode='r')\n",
    "print(file1.readline())     # read the first line\n",
    "file1.close()"
   ]
  },
  {
   "cell_type": "code",
   "execution_count": 36,
   "metadata": {},
   "outputs": [
    {
     "name": "stdout",
     "output_type": "stream",
     "text": [
      "Hola, B\n"
     ]
    }
   ],
   "source": [
    "file1 = open('file1.txt', mode='r')\n",
    "print(file1.readline(7))            # read the number of characters\n",
    "file1.close()"
   ]
  },
  {
   "cell_type": "code",
   "execution_count": 37,
   "metadata": {},
   "outputs": [
    {
     "name": "stdout",
     "output_type": "stream",
     "text": [
      "['Hola, Bonjourno Princepessa\\n', 'Line 2\\n', 'Line 3\\n', 'Line 4\\n', 'Line 5\\n', 'Line 6']\n"
     ]
    }
   ],
   "source": [
    "# read + write mode\n",
    "file1 = open('file1.txt', mode='r+')\n",
    "print(file1.readlines())\n",
    "file1.write('\\nLine 7')\n",
    "file1.close()"
   ]
  },
  {
   "cell_type": "code",
   "execution_count": 41,
   "metadata": {},
   "outputs": [
    {
     "name": "stdout",
     "output_type": "stream",
     "text": [
      "['Hola, Bonjourno Princepessa\\n', 'Line 2\\n', 'Line 3\\n', 'Line 4\\n', 'Line 5\\n', 'Line 6\\n', 'Line 7']\n",
      "True\n",
      "True\n",
      "True\n"
     ]
    }
   ],
   "source": [
    "file1 = open('file1.txt', mode='r+')\n",
    "print(file1.readlines())\n",
    "print(file1.writable())     # Checking file is writable or not\n",
    "print(file1.readable())     # checking file is readable or not\n",
    "file1.close()\n",
    "print(file1.closed)       # checking of the file is closed or not"
   ]
  },
  {
   "cell_type": "code",
   "execution_count": 42,
   "metadata": {},
   "outputs": [
    {
     "name": "stdout",
     "output_type": "stream",
     "text": [
      "[b'Hola, Bonjourno Princepessa\\r\\n', b'Line 2\\r\\n', b'Line 3\\r\\n', b'Line 4\\r\\n', b'Line 5\\r\\n', b'Line 6\\r\\n', b'Line 7']\n"
     ]
    }
   ],
   "source": [
    "# binary mode\n",
    "file1 = open(\"file1.txt\", mode='rb')\n",
    "print(file1.readlines())\n",
    "file1.close()"
   ]
  },
  {
   "cell_type": "code",
   "execution_count": 48,
   "metadata": {},
   "outputs": [
    {
     "name": "stdout",
     "output_type": "stream",
     "text": [
      "Bonjourno Princepessa\n",
      "Line 2\n",
      "Line 3\n",
      "Line 4\n",
      "Line 5\n",
      "Line 6\n",
      "Line 7\n"
     ]
    }
   ],
   "source": [
    "file1 = open('file1.txt', mode='r+')\n",
    "file1.seek(6)       # move cursor after the specified number of character\n",
    "print(file1.read())\n",
    "file1.close()"
   ]
  },
  {
   "cell_type": "markdown",
   "metadata": {},
   "source": [
    "## File with session"
   ]
  },
  {
   "cell_type": "code",
   "execution_count": 44,
   "metadata": {},
   "outputs": [
    {
     "name": "stdout",
     "output_type": "stream",
     "text": [
      "['Hola, Bonjourno Princepessa\\n', 'Line 2\\n', 'Line 3\\n', 'Line 4\\n', 'Line 5\\n', 'Line 6\\n', 'Line 7']\n",
      "True\n"
     ]
    }
   ],
   "source": [
    "with open('file1.txt', mode='r') as file1:      # automatically close the file , preferred for short time\n",
    "    print(file1.readlines())\n",
    "print(file1.closed)"
   ]
  }
 ],
 "metadata": {
  "kernelspec": {
   "display_name": "Python 3.9.0 ('.env': venv)",
   "language": "python",
   "name": "python3"
  },
  "language_info": {
   "codemirror_mode": {
    "name": "ipython",
    "version": 3
   },
   "file_extension": ".py",
   "mimetype": "text/x-python",
   "name": "python",
   "nbconvert_exporter": "python",
   "pygments_lexer": "ipython3",
   "version": "3.9.0"
  },
  "orig_nbformat": 4,
  "vscode": {
   "interpreter": {
    "hash": "fa623bd44fc5a3453efc0f28b7d576938deaaebcc771c72f05da310f849d904a"
   }
  }
 },
 "nbformat": 4,
 "nbformat_minor": 2
}
