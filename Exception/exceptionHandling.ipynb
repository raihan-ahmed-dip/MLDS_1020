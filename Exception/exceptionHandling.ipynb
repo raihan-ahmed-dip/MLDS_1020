{
 "cells": [
  {
   "cell_type": "markdown",
   "metadata": {},
   "source": [
    "# Exception Handling"
   ]
  },
  {
   "cell_type": "code",
   "execution_count": 5,
   "metadata": {},
   "outputs": [
    {
     "ename": "ValueError",
     "evalue": "invalid literal for int() with base 10: 'yt'",
     "output_type": "error",
     "traceback": [
      "\u001b[1;31m---------------------------------------------------------------------------\u001b[0m",
      "\u001b[1;31mValueError\u001b[0m                                Traceback (most recent call last)",
      "Cell \u001b[1;32mIn [5], line 1\u001b[0m\n\u001b[1;32m----> 1\u001b[0m num \u001b[39m=\u001b[39m \u001b[39mint\u001b[39;49m(\u001b[39minput\u001b[39;49m())\n\u001b[0;32m      2\u001b[0m div \u001b[39m=\u001b[39m \u001b[39mint\u001b[39m(\u001b[39minput\u001b[39m())\n\u001b[0;32m      3\u001b[0m res \u001b[39m=\u001b[39m num \u001b[39m/\u001b[39m div\n",
      "\u001b[1;31mValueError\u001b[0m: invalid literal for int() with base 10: 'yt'"
     ]
    }
   ],
   "source": [
    "num = int(input())\n",
    "div = int(input())\n",
    "res = num / div\n",
    "print(res)"
   ]
  },
  {
   "cell_type": "markdown",
   "metadata": {},
   "source": [
    "## try and except"
   ]
  },
  {
   "cell_type": "code",
   "execution_count": 6,
   "metadata": {},
   "outputs": [
    {
     "name": "stdout",
     "output_type": "stream",
     "text": [
      "division by zero\n",
      "Welcome\n"
     ]
    }
   ],
   "source": [
    "try:\n",
    "    num = int(input())\n",
    "    div = int(input())\n",
    "    res = num / div\n",
    "    print(res)\n",
    "except Exception as e:\n",
    "    print(e)\n",
    "print(\"Welcome\")"
   ]
  },
  {
   "cell_type": "code",
   "execution_count": 9,
   "metadata": {},
   "outputs": [
    {
     "name": "stdout",
     "output_type": "stream",
     "text": [
      "invalid literal for int() with base 10: 'kdsfj'\n",
      "Welcome\n"
     ]
    }
   ],
   "source": [
    "try:\n",
    "    num = int(input())\n",
    "    div = int(input())\n",
    "    res = num / div\n",
    "    print(res)\n",
    "except ZeroDivisionError as e:\n",
    "    print(e)\n",
    "except ValueError as e:\n",
    "    print(e)\n",
    "print(\"Welcome\")"
   ]
  },
  {
   "cell_type": "code",
   "execution_count": 16,
   "metadata": {},
   "outputs": [
    {
     "name": "stdout",
     "output_type": "stream",
     "text": [
      "not readable\n"
     ]
    },
    {
     "data": {
      "text/plain": [
       "True"
      ]
     },
     "execution_count": 16,
     "metadata": {},
     "output_type": "execute_result"
    }
   ],
   "source": [
    "try:\n",
    "    file = open('fileExc.txt', mode='w')\n",
    "    print(file.read())\n",
    "except Exception as e:\n",
    "    print(e)\n",
    "else:\n",
    "    print('No Exception')\n",
    "finally:\n",
    "    file.close()\n",
    "file.closed"
   ]
  },
  {
   "cell_type": "markdown",
   "metadata": {},
   "source": [
    "## Custom Exception"
   ]
  },
  {
   "cell_type": "code",
   "execution_count": 17,
   "metadata": {},
   "outputs": [
    {
     "ename": "Exception",
     "evalue": "Salary is below threshold",
     "output_type": "error",
     "traceback": [
      "\u001b[1;31m---------------------------------------------------------------------------\u001b[0m",
      "\u001b[1;31mException\u001b[0m                                 Traceback (most recent call last)",
      "Cell \u001b[1;32mIn [17], line 3\u001b[0m\n\u001b[0;32m      1\u001b[0m salary \u001b[39m=\u001b[39m \u001b[39m25000\u001b[39m\n\u001b[0;32m      2\u001b[0m \u001b[39mif\u001b[39;00m salary \u001b[39m<\u001b[39m \u001b[39m40000\u001b[39m:\n\u001b[1;32m----> 3\u001b[0m     \u001b[39mraise\u001b[39;00m \u001b[39mException\u001b[39;00m(\u001b[39m'\u001b[39m\u001b[39mSalary is below threshold\u001b[39m\u001b[39m'\u001b[39m)\n",
      "\u001b[1;31mException\u001b[0m: Salary is below threshold"
     ]
    }
   ],
   "source": [
    "salary = 25000\n",
    "if salary < 40000:\n",
    "    raise Exception('Salary is below threshold')"
   ]
  },
  {
   "cell_type": "code",
   "execution_count": 18,
   "metadata": {},
   "outputs": [],
   "source": [
    "class SalaryBelowThresholdError(Exception):\n",
    "    pass"
   ]
  },
  {
   "cell_type": "code",
   "execution_count": 19,
   "metadata": {},
   "outputs": [
    {
     "ename": "SalaryBelowThresholdError",
     "evalue": "Salary is below Threshold",
     "output_type": "error",
     "traceback": [
      "\u001b[1;31m---------------------------------------------------------------------------\u001b[0m",
      "\u001b[1;31mSalaryBelowThresholdError\u001b[0m                 Traceback (most recent call last)",
      "Cell \u001b[1;32mIn [19], line 3\u001b[0m\n\u001b[0;32m      1\u001b[0m salary \u001b[39m=\u001b[39m \u001b[39m30000\u001b[39m\n\u001b[0;32m      2\u001b[0m \u001b[39mif\u001b[39;00m salary \u001b[39m<\u001b[39m \u001b[39m40000\u001b[39m:\n\u001b[1;32m----> 3\u001b[0m     \u001b[39mraise\u001b[39;00m SalaryBelowThresholdError(\u001b[39m\"\u001b[39m\u001b[39mSalary is below Threshold\u001b[39m\u001b[39m\"\u001b[39m)\n",
      "\u001b[1;31mSalaryBelowThresholdError\u001b[0m: Salary is below Threshold"
     ]
    }
   ],
   "source": [
    "salary = 30000\n",
    "if salary < 40000:\n",
    "    raise SalaryBelowThresholdError(\"Salary is below Threshold\")"
   ]
  },
  {
   "cell_type": "code",
   "execution_count": 20,
   "metadata": {},
   "outputs": [
    {
     "name": "stdout",
     "output_type": "stream",
     "text": [
      "Salary is below Threshold\n"
     ]
    }
   ],
   "source": [
    "try:\n",
    "    salary = 35000\n",
    "    if salary < 40000:\n",
    "        raise SalaryBelowThresholdError(\"Salary is below Threshold\")\n",
    "except SalaryBelowThresholdError as e:\n",
    "    print(e)"
   ]
  },
  {
   "cell_type": "markdown",
   "metadata": {},
   "source": [
    "## Assertion Error"
   ]
  },
  {
   "cell_type": "code",
   "execution_count": 22,
   "metadata": {},
   "outputs": [
    {
     "ename": "AssertionError",
     "evalue": "Not in Vowels!",
     "output_type": "error",
     "traceback": [
      "\u001b[1;31m---------------------------------------------------------------------------\u001b[0m",
      "\u001b[1;31mAssertionError\u001b[0m                            Traceback (most recent call last)",
      "Cell \u001b[1;32mIn [22], line 4\u001b[0m\n\u001b[0;32m      1\u001b[0m vowles \u001b[39m=\u001b[39m \u001b[39m'\u001b[39m\u001b[39maeiouAEIOU\u001b[39m\u001b[39m'\u001b[39m\n\u001b[0;32m      2\u001b[0m alphabet \u001b[39m=\u001b[39m \u001b[39m'\u001b[39m\u001b[39mB\u001b[39m\u001b[39m'\u001b[39m\n\u001b[1;32m----> 4\u001b[0m \u001b[39massert\u001b[39;00m alphabet \u001b[39min\u001b[39;00m vowles, \u001b[39m\"\u001b[39m\u001b[39mNot in Vowels!\u001b[39m\u001b[39m\"\u001b[39m\n",
      "\u001b[1;31mAssertionError\u001b[0m: Not in Vowels!"
     ]
    }
   ],
   "source": [
    "vowles = 'aeiouAEIOU'\n",
    "alphabet = 'B'\n",
    "\n",
    "assert alphabet in vowles, \"Not in Vowels!\""
   ]
  }
 ],
 "metadata": {
  "kernelspec": {
   "display_name": "Python 3.9.5 ('.env': venv)",
   "language": "python",
   "name": "python3"
  },
  "language_info": {
   "codemirror_mode": {
    "name": "ipython",
    "version": 3
   },
   "file_extension": ".py",
   "mimetype": "text/x-python",
   "name": "python",
   "nbconvert_exporter": "python",
   "pygments_lexer": "ipython3",
   "version": "3.9.5"
  },
  "orig_nbformat": 4,
  "vscode": {
   "interpreter": {
    "hash": "fa623bd44fc5a3453efc0f28b7d576938deaaebcc771c72f05da310f849d904a"
   }
  }
 },
 "nbformat": 4,
 "nbformat_minor": 2
}
