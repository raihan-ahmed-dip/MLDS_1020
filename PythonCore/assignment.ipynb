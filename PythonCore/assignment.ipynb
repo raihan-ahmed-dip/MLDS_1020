{
 "cells": [
  {
   "cell_type": "code",
   "execution_count": 13,
   "metadata": {},
   "outputs": [],
   "source": [
    "# Task 1\n",
    "# WAP to Search a given value inside a list.\n",
    "# data = [1,4,2,5,3,6], value = 5\n",
    "# print(\"Found!\")"
   ]
  },
  {
   "cell_type": "code",
   "execution_count": 14,
   "metadata": {},
   "outputs": [
    {
     "name": "stdout",
     "output_type": "stream",
     "text": [
      "Found!\n"
     ]
    }
   ],
   "source": [
    "data = [1,4,2,5,3,6]\n",
    "value = 5\n",
    "print('Found!' if value in data else 'Not Found!')"
   ]
  },
  {
   "cell_type": "code",
   "execution_count": 15,
   "metadata": {},
   "outputs": [],
   "source": [
    "# Task 2\n",
    "# WAP to Smart Door System\n",
    "# original password=open@2022\n",
    "# Will take password from user\n",
    "# if the password mathces with original paswsword, the open the door\n",
    "# if the password is wrong, Try Again\n",
    "# maximun consecutive wrong try is 3\n",
    "# ask security question, if answer matches then give chance to reset paswsword\n",
    "# other say robber"
   ]
  },
  {
   "cell_type": "code",
   "execution_count": 18,
   "metadata": {},
   "outputs": [
    {
     "name": "stdout",
     "output_type": "stream",
     "text": [
      "Open the Door\n"
     ]
    }
   ],
   "source": [
    "original_password = 'open@2022'\n",
    "password = ''\n",
    "security_answer = 'cat'\n",
    "count = 0\n",
    "while (count < 3):\n",
    "    password = input(\"Enter Password: \")\n",
    "    if password == original_password:\n",
    "        count = 3\n",
    "    else:\n",
    "        count += 1\n",
    "if password == original_password:\n",
    "    print(\"Open the Door\")\n",
    "else:\n",
    "    answer = input(\"What is your favorite animal?\")\n",
    "    if answer.lower() == security_answer:\n",
    "        original_password = input(\"Reset Password: \")\n",
    "        print(f\"Password changed! New password {original_password}\")\n",
    "    else:\n",
    "        print(\"Robber\")\n"
   ]
  }
 ],
 "metadata": {
  "kernelspec": {
   "display_name": "Python 3.9.5 64-bit",
   "language": "python",
   "name": "python3"
  },
  "language_info": {
   "codemirror_mode": {
    "name": "ipython",
    "version": 3
   },
   "file_extension": ".py",
   "mimetype": "text/x-python",
   "name": "python",
   "nbconvert_exporter": "python",
   "pygments_lexer": "ipython3",
   "version": "3.9.5"
  },
  "orig_nbformat": 4,
  "vscode": {
   "interpreter": {
    "hash": "11938c6bc6919ae2720b4d5011047913343b08a43b18698fd82dedb0d4417594"
   }
  }
 },
 "nbformat": 4,
 "nbformat_minor": 2
}
