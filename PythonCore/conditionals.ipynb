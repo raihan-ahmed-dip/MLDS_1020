{
 "cells": [
  {
   "cell_type": "markdown",
   "metadata": {},
   "source": [
    "# Conditional Statement"
   ]
  },
  {
   "cell_type": "code",
   "execution_count": 5,
   "metadata": {},
   "outputs": [
    {
     "name": "stdout",
     "output_type": "stream",
     "text": [
      "Eligible for Credit Card\n",
      "Eligible for Card\n",
      "Outside of If\n"
     ]
    }
   ],
   "source": [
    "# If Statement\n",
    "age = 21\n",
    "salary = 40000\n",
    "\n",
    "if age >= 18:\n",
    "    if salary >= 40000:\n",
    "        print(\"Eligible for Credit Card\")\n",
    "    print(\"Eligible for Card\")\n",
    "print(\"Outside of If\")"
   ]
  },
  {
   "cell_type": "code",
   "execution_count": 6,
   "metadata": {},
   "outputs": [
    {
     "name": "stdout",
     "output_type": "stream",
     "text": [
      "Eligible for Credit Cards\n",
      "Outside of If\n"
     ]
    }
   ],
   "source": [
    "# If Statement\n",
    "age = 21\n",
    "salary = 40000\n",
    "\n",
    "if (age >= 18) and (salary >= 40000):\n",
    "    print(\"Eligible for Credit Cards\")\n",
    "print(\"Outside of If\")"
   ]
  },
  {
   "cell_type": "code",
   "execution_count": 11,
   "metadata": {},
   "outputs": [
    {
     "name": "stdout",
     "output_type": "stream",
     "text": [
      "Not Eligible for Any Card\n"
     ]
    }
   ],
   "source": [
    "# If-elif-else Statement\n",
    "age = 12\n",
    "salary = 30000\n",
    "\n",
    "if (age >= 18) and (salary >= 40000):\n",
    "    print(\"Eligible for Credit Card\")\n",
    "elif age >= 18:\n",
    "    print(\"Eligible for Debit Card\")\n",
    "elif age > 15:\n",
    "    print(\"Eligible for Green Card\")\n",
    "else:\n",
    "    print(\"Not Eligible for Any Card\")"
   ]
  },
  {
   "cell_type": "markdown",
   "metadata": {},
   "source": [
    "# Ternary Operation"
   ]
  },
  {
   "cell_type": "code",
   "execution_count": 14,
   "metadata": {},
   "outputs": [
    {
     "name": "stdout",
     "output_type": "stream",
     "text": [
      "Even\n"
     ]
    }
   ],
   "source": [
    "num = 4\n",
    "\n",
    "if num&1:\n",
    "    print(\"Odd\")\n",
    "else:\n",
    "    print(\"Even\")"
   ]
  },
  {
   "cell_type": "code",
   "execution_count": 18,
   "metadata": {},
   "outputs": [
    {
     "name": "stdout",
     "output_type": "stream",
     "text": [
      "Odd\n"
     ]
    }
   ],
   "source": [
    "num = 5\n",
    "res = None\n",
    "\n",
    "res = \"Even\" if num%2 == 0 else \"Odd\"\n",
    "print(res)"
   ]
  },
  {
   "cell_type": "code",
   "execution_count": 20,
   "metadata": {},
   "outputs": [
    {
     "data": {
      "text/plain": [
       "67"
      ]
     },
     "execution_count": 20,
     "metadata": {},
     "output_type": "execute_result"
    }
   ],
   "source": [
    "a, b, c = 14, 5, 67\n",
    "largest = a if ((a>=b) and (a>=c)) else (b if ((b>=a) and (b>=c)) else c)\n",
    "largest"
   ]
  }
 ],
 "metadata": {
  "kernelspec": {
   "display_name": "Python 3.9.0 64-bit",
   "language": "python",
   "name": "python3"
  },
  "language_info": {
   "codemirror_mode": {
    "name": "ipython",
    "version": 3
   },
   "file_extension": ".py",
   "mimetype": "text/x-python",
   "name": "python",
   "nbconvert_exporter": "python",
   "pygments_lexer": "ipython3",
   "version": "3.9.0"
  },
  "orig_nbformat": 4,
  "vscode": {
   "interpreter": {
    "hash": "11938c6bc6919ae2720b4d5011047913343b08a43b18698fd82dedb0d4417594"
   }
  }
 },
 "nbformat": 4,
 "nbformat_minor": 2
}
